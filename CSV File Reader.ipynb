{
 "cells": [
  {
   "cell_type": "markdown",
   "metadata": {},
   "source": [
    "# CSV file reader and writer\n",
    "This program is a simple csv file reader and writer. The program is quite generic and can be adapted to work with a variety of csv files. \n",
    "\n",
    "In its simple form the program downloads 3 files from a website. These files are csv files with four columns. The program takes the file path as input, extracts the header items and values corresponding to each header. It then creates a dictionary with the header item as the key and data item for value. At the end a list of dictionary is created for each set of values. \n",
    "\n",
    "Following are the tasks performed in this program\n",
    "- Read the file line by line\n",
    "- Parse the first line to get a list of the column names or headers\n",
    "- Split each remaining line and convert each value into a float\n",
    "- Create a dictionary for each loan using the headers as keys\n",
    "- Create a list of dictionaries to keep track of all the loans"
   ]
  },
  {
   "cell_type": "code",
   "execution_count": 9,
   "metadata": {},
   "outputs": [
    {
     "data": {
      "text/plain": [
       "('./Working with CSV files/loans3.txt',\n",
       " <http.client.HTTPMessage at 0x255b366cdf0>)"
      ]
     },
     "execution_count": 9,
     "metadata": {},
     "output_type": "execute_result"
    }
   ],
   "source": [
    "#This block imports libaries and downloads the required files\n",
    "import numpy as np\n",
    "import os\n",
    "import urllib.request\n",
    "\n",
    "url1 = 'https://gist.githubusercontent.com/aakashns/257f6e6c8719c17d0e498ea287d1a386/raw/7def9ef4234ddf0bc82f855ad67dac8b971852ef/loans1.txt'\n",
    "url2 = 'https://gist.githubusercontent.com/aakashns/257f6e6c8719c17d0e498ea287d1a386/raw/7def9ef4234ddf0bc82f855ad67dac8b971852ef/loans2.txt'\n",
    "url3 = 'https://gist.githubusercontent.com/aakashns/257f6e6c8719c17d0e498ea287d1a386/raw/7def9ef4234ddf0bc82f855ad67dac8b971852ef/loans3.txt'\n",
    "\n",
    "urllib.request.urlretrieve(url1,'./Working with CSV files/loans1.txt')\n",
    "urllib.request.urlretrieve(url2,'./Working with CSV files/loans2.txt')\n",
    "urllib.request.urlretrieve(url3,'./Working with CSV files/loans3.txt')\n"
   ]
  },
  {
   "cell_type": "code",
   "execution_count": 31,
   "metadata": {},
   "outputs": [],
   "source": [
    "#This block defines the functions used in the prgram\n",
    "\n",
    "#To extract header\n",
    "def parse_headers(header_line):\n",
    "    return header_line.strip().split(',')\n",
    "\n",
    "#To extract values and deal with missing data and converting data to float\n",
    "def parse_values(data_line):\n",
    "    values= []\n",
    "    for item in data_line.strip().split(','):\n",
    "        if item =='':\n",
    "            values.append(0.0)\n",
    "        else:\n",
    "            values.append(float(item))\n",
    "    return values\n",
    "\n",
    "#Creating dictionary from the haeder and values obtained from previous functions\n",
    "def create_item_dict(values, headers):\n",
    "    result={}\n",
    "    for v,h in zip(values, headers):\n",
    "        result[h] = v\n",
    "    return result \n",
    "    \n",
    "    "
   ]
  },
  {
   "cell_type": "code",
   "execution_count": 37,
   "metadata": {},
   "outputs": [],
   "source": [
    "#Function to read the whole csv file\n",
    "def read_csv(path):\n",
    "    result = []\n",
    "    with open (path,'r') as f:\n",
    "        lines = f.readlines()\n",
    "        headers = parse_headers(lines[0])\n",
    "        for data_line in lines[1:]:\n",
    "            values = parse_values(data_line)\n",
    "            item_dict = create_item_dict(values, headers)\n",
    "            result.append(item_dict)\n",
    "    return result\n",
    "    \n",
    "    "
   ]
  },
  {
   "cell_type": "code",
   "execution_count": 38,
   "metadata": {},
   "outputs": [
    {
     "data": {
      "text/plain": [
       "[{'amount': 100000.0, 'duration': 36.0, 'rate': 0.08, 'down_payment': 20000.0},\n",
       " {'amount': 200000.0, 'duration': 12.0, 'rate': 0.1, 'down_payment': 0.0},\n",
       " {'amount': 628400.0,\n",
       "  'duration': 120.0,\n",
       "  'rate': 0.12,\n",
       "  'down_payment': 100000.0},\n",
       " {'amount': 4637400.0, 'duration': 240.0, 'rate': 0.06, 'down_payment': 0.0},\n",
       " {'amount': 42900.0, 'duration': 90.0, 'rate': 0.07, 'down_payment': 8900.0},\n",
       " {'amount': 916000.0, 'duration': 16.0, 'rate': 0.13, 'down_payment': 0.0},\n",
       " {'amount': 45230.0, 'duration': 48.0, 'rate': 0.08, 'down_payment': 4300.0},\n",
       " {'amount': 991360.0, 'duration': 99.0, 'rate': 0.08, 'down_payment': 0.0},\n",
       " {'amount': 423000.0, 'duration': 27.0, 'rate': 0.09, 'down_payment': 47200.0}]"
      ]
     },
     "execution_count": 38,
     "metadata": {},
     "output_type": "execute_result"
    }
   ],
   "source": [
    "read_csv('./Working with CSV files/loans1.txt')"
   ]
  },
  {
   "cell_type": "code",
   "execution_count": null,
   "metadata": {},
   "outputs": [],
   "source": []
  },
  {
   "cell_type": "code",
   "execution_count": 32,
   "metadata": {},
   "outputs": [
    {
     "name": "stdout",
     "output_type": "stream",
     "text": [
      "['amount', 'duration', 'rate', 'down_payment']\n",
      "[200000.0, 12.0, 0.1, 0.0]\n",
      "{'amount': 200000.0, 'duration': 12.0, 'rate': 0.1, 'down_payment': 0.0}\n"
     ]
    }
   ],
   "source": [
    "with open ('./Working with CSV files/loans1.txt','r') as file1:\n",
    "    file1_contents = file1.readlines()\n",
    "    header = parse_headers(file1_contents[0])\n",
    "    line = parse_values(file1_contents[2])\n",
    "    dicti = create_item_dict(line,header)\n",
    "    print(header)\n",
    "    print(line)\n",
    "    print(dicti)"
   ]
  },
  {
   "cell_type": "code",
   "execution_count": null,
   "metadata": {},
   "outputs": [],
   "source": []
  },
  {
   "cell_type": "code",
   "execution_count": null,
   "metadata": {},
   "outputs": [],
   "source": []
  },
  {
   "cell_type": "code",
   "execution_count": null,
   "metadata": {},
   "outputs": [],
   "source": []
  }
 ],
 "metadata": {
  "kernelspec": {
   "display_name": "Python 3",
   "language": "python",
   "name": "python3"
  },
  "language_info": {
   "codemirror_mode": {
    "name": "ipython",
    "version": 3
   },
   "file_extension": ".py",
   "mimetype": "text/x-python",
   "name": "python",
   "nbconvert_exporter": "python",
   "pygments_lexer": "ipython3",
   "version": "3.8.5"
  }
 },
 "nbformat": 4,
 "nbformat_minor": 4
}
